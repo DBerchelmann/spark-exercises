{
 "cells": [
  {
   "cell_type": "code",
   "execution_count": 90,
   "metadata": {},
   "outputs": [],
   "source": [
    "import pandas as pd\n",
    "import numpy as np\n",
    "import pyspark\n",
    "from pyspark.sql.functions import sum, mean, concat, lit, asc, desc, col, when, filter\n",
    "\n",
    "np.random.seed(123)\n",
    "\n",
    "pandas_dataframe = pd.DataFrame({\n",
    "    \"n\": np.random.randn(20),\n",
    "    \"group\": np.random.choice(list(\"xyz\"), 20),\n",
    "    \"abool\": np.random.choice([True, False], 20),\n",
    "})"
   ]
  },
  {
   "cell_type": "code",
   "execution_count": 2,
   "metadata": {},
   "outputs": [],
   "source": [
    "# define spark\n",
    "\n",
    "spark = pyspark.sql.SparkSession.builder.getOrCreate()"
   ]
  },
  {
   "cell_type": "code",
   "execution_count": 3,
   "metadata": {},
   "outputs": [],
   "source": [
    "df = spark.createDataFrame(pandas_dataframe)\n"
   ]
  },
  {
   "cell_type": "markdown",
   "metadata": {},
   "source": [
    "Spark Dataframe Basics\n",
    "\n",
    "- Use the starter code above to create a pandas dataframe.\n",
    "- Convert the pandas dataframe to a spark dataframe. From this point forward, do all of your work with the spark dataframe, not the pandas dataframe.\n",
    "- Show the first 3 rows of the dataframe.\n",
    "- Show the first 7 rows of the dataframe.\n",
    "- View a summary of the data using .describe.\n",
    "- Use .select to create a new dataframe with just the n and abool columns. View the first 5 rows of this dataframe.\n",
    "- Use .select to create a new dataframe with just the group and abool columns. View the first 5 rows of this dataframe.\n",
    "- Use .select to create a new dataframe with the group column and the abool column renamed to a_boolean_value. Show the first 3 rows of this dataframe.\n",
    "- Use .select to create a new dataframe with the group column and the n column renamed to a_numeric_value. Show the first 6 rows of this dataframe."
   ]
  },
  {
   "cell_type": "code",
   "execution_count": 4,
   "metadata": {},
   "outputs": [
    {
     "name": "stdout",
     "output_type": "stream",
     "text": [
      "+-------------------+-----+-----+\n",
      "|                  n|group|abool|\n",
      "+-------------------+-----+-----+\n",
      "|-1.0856306033005612|    y|false|\n",
      "| 0.9973454465835858|    x| true|\n",
      "|0.28297849805199204|    x| true|\n",
      "+-------------------+-----+-----+\n",
      "only showing top 3 rows\n",
      "\n"
     ]
    }
   ],
   "source": [
    "df.show(3)"
   ]
  },
  {
   "cell_type": "code",
   "execution_count": 5,
   "metadata": {},
   "outputs": [
    {
     "name": "stdout",
     "output_type": "stream",
     "text": [
      "+-------------------+-----+-----+\n",
      "|                  n|group|abool|\n",
      "+-------------------+-----+-----+\n",
      "|-1.0856306033005612|    y|false|\n",
      "| 0.9973454465835858|    x| true|\n",
      "|0.28297849805199204|    x| true|\n",
      "| -1.506294713918092|    x|false|\n",
      "|-0.5786002519685364|    z|false|\n",
      "|  1.651436537097151|    y|false|\n",
      "| -2.426679243393074|    y|false|\n",
      "+-------------------+-----+-----+\n",
      "only showing top 7 rows\n",
      "\n"
     ]
    }
   ],
   "source": [
    "df.show(7)"
   ]
  },
  {
   "cell_type": "code",
   "execution_count": 6,
   "metadata": {},
   "outputs": [
    {
     "name": "stdout",
     "output_type": "stream",
     "text": [
      "+-------+-------------------+-----+\n",
      "|summary|                  n|group|\n",
      "+-------+-------------------+-----+\n",
      "|  count|                 20|   20|\n",
      "|   mean|0.11441773195529023| null|\n",
      "| stddev|  1.257452681756012| null|\n",
      "|    min| -2.426679243393074|    x|\n",
      "|    max| 2.2059300827254558|    z|\n",
      "+-------+-------------------+-----+\n",
      "\n"
     ]
    }
   ],
   "source": [
    "df.describe().show()"
   ]
  },
  {
   "cell_type": "code",
   "execution_count": 7,
   "metadata": {},
   "outputs": [
    {
     "name": "stdout",
     "output_type": "stream",
     "text": [
      "+-------------------+-----+\n",
      "|                  n|abool|\n",
      "+-------------------+-----+\n",
      "|-1.0856306033005612|false|\n",
      "| 0.9973454465835858| true|\n",
      "|0.28297849805199204| true|\n",
      "| -1.506294713918092|false|\n",
      "|-0.5786002519685364|false|\n",
      "+-------------------+-----+\n",
      "only showing top 5 rows\n",
      "\n"
     ]
    }
   ],
   "source": [
    "df.select(df.n, df.abool).show(5)"
   ]
  },
  {
   "cell_type": "code",
   "execution_count": 8,
   "metadata": {},
   "outputs": [
    {
     "name": "stdout",
     "output_type": "stream",
     "text": [
      "+-----+-----+\n",
      "|group|abool|\n",
      "+-----+-----+\n",
      "|    y|false|\n",
      "|    x| true|\n",
      "|    x| true|\n",
      "|    x|false|\n",
      "|    z|false|\n",
      "+-----+-----+\n",
      "only showing top 5 rows\n",
      "\n"
     ]
    }
   ],
   "source": [
    "df.select(df.group, df.abool).show(5)"
   ]
  },
  {
   "cell_type": "code",
   "execution_count": 9,
   "metadata": {},
   "outputs": [
    {
     "name": "stdout",
     "output_type": "stream",
     "text": [
      "+-----+---------------+\n",
      "|group|a_boolean_value|\n",
      "+-----+---------------+\n",
      "|    y|          false|\n",
      "|    x|           true|\n",
      "|    x|           true|\n",
      "+-----+---------------+\n",
      "only showing top 3 rows\n",
      "\n"
     ]
    }
   ],
   "source": [
    "df.select(df.group, df.abool.alias('a_boolean_value')).show(3)"
   ]
  },
  {
   "cell_type": "code",
   "execution_count": 10,
   "metadata": {},
   "outputs": [
    {
     "name": "stdout",
     "output_type": "stream",
     "text": [
      "+-----+-------------------+\n",
      "|group|    a_numeric_value|\n",
      "+-----+-------------------+\n",
      "|    y|-1.0856306033005612|\n",
      "|    x| 0.9973454465835858|\n",
      "|    x|0.28297849805199204|\n",
      "|    x| -1.506294713918092|\n",
      "|    z|-0.5786002519685364|\n",
      "|    y|  1.651436537097151|\n",
      "+-----+-------------------+\n",
      "only showing top 6 rows\n",
      "\n"
     ]
    }
   ],
   "source": [
    "df.select(df.group, df.n.alias('a_numeric_value')).show(6)"
   ]
  },
  {
   "cell_type": "markdown",
   "metadata": {},
   "source": [
    "Column Manipulation\n",
    "\n",
    "- Use the starter code above to re-create a spark dataframe. Store the spark dataframe in a varaible named df\n",
    "\n",
    "- Use .select to add 4 to the n column. Show the results.\n",
    "\n",
    "- Subtract 5 from the n column and view the results.\n",
    "\n",
    "- Multiply the n column by 2. View the results along with the original numbers.\n",
    "\n",
    "- Add a new column named n2 that is the n value multiplied by -1. Show the first 4 rows of your dataframe. You should see the original n value as well as n2.\n",
    "\n",
    "- Add a new column named n3 that is the n value squared. Show the first 5 rows of your dataframe. You should see both n, n2, and n3.\n",
    "\n",
    "- What happens when you run the code below?\n",
    "\n",
    "- df.group + df.abool\n",
    "- What happens when you run the code below? What is the difference between this and the previous code sample?\n",
    "\n",
    "- df.select(df.group + df.abool)\n",
    "- Try adding various other columns together. What are the results of combining the different data types?"
   ]
  },
  {
   "cell_type": "code",
   "execution_count": 11,
   "metadata": {},
   "outputs": [
    {
     "name": "stdout",
     "output_type": "stream",
     "text": [
      "+------------------+\n",
      "|           (n + 4)|\n",
      "+------------------+\n",
      "| 2.914369396699439|\n",
      "| 4.997345446583585|\n",
      "|4.2829784980519925|\n",
      "| 2.493705286081908|\n",
      "|3.4213997480314635|\n",
      "| 5.651436537097151|\n",
      "|1.5733207566069258|\n",
      "|3.5710873711438227|\n",
      "| 5.265936258705534|\n",
      "|3.1332595977348983|\n",
      "|3.3211138483779457|\n",
      "| 3.905291031063109|\n",
      "| 5.491389626124288|\n",
      "| 3.361098003315349|\n",
      "|3.5560180403539343|\n",
      "|3.5656487243814827|\n",
      "| 6.205930082725455|\n",
      "| 6.186786088973786|\n",
      "| 5.004053897878877|\n",
      "| 4.386186399174856|\n",
      "+------------------+\n",
      "\n"
     ]
    }
   ],
   "source": [
    "df.select(df.n + 4).show()"
   ]
  },
  {
   "cell_type": "code",
   "execution_count": 12,
   "metadata": {},
   "outputs": [
    {
     "name": "stdout",
     "output_type": "stream",
     "text": [
      "+-------------------+\n",
      "|            (n - 5)|\n",
      "+-------------------+\n",
      "| -6.085630603300562|\n",
      "| -4.002654553416415|\n",
      "|-4.7170215019480075|\n",
      "| -6.506294713918092|\n",
      "|-5.5786002519685365|\n",
      "| -3.348563462902849|\n",
      "| -7.426679243393075|\n",
      "| -5.428912628856177|\n",
      "|-3.7340637412944657|\n",
      "| -5.866740402265101|\n",
      "| -5.678886151622054|\n",
      "| -5.094708968936891|\n",
      "| -3.508610373875712|\n",
      "| -5.638901996684651|\n",
      "| -5.443981959646066|\n",
      "| -5.434351275618518|\n",
      "|-2.7940699172745442|\n",
      "|-2.8132139110262133|\n",
      "| -3.995946102121123|\n",
      "| -4.613813600825144|\n",
      "+-------------------+\n",
      "\n"
     ]
    }
   ],
   "source": [
    "df.select(df.n - 5).show()"
   ]
  },
  {
   "cell_type": "code",
   "execution_count": 13,
   "metadata": {},
   "outputs": [
    {
     "name": "stdout",
     "output_type": "stream",
     "text": [
      "+--------------------+--------------------+\n",
      "|                   n|             (n * 2)|\n",
      "+--------------------+--------------------+\n",
      "| -1.0856306033005612| -2.1712612066011223|\n",
      "|  0.9973454465835858|  1.9946908931671716|\n",
      "| 0.28297849805199204|  0.5659569961039841|\n",
      "|  -1.506294713918092|  -3.012589427836184|\n",
      "| -0.5786002519685364| -1.1572005039370727|\n",
      "|   1.651436537097151|   3.302873074194302|\n",
      "|  -2.426679243393074|  -4.853358486786148|\n",
      "|-0.42891262885617726| -0.8578252577123545|\n",
      "|   1.265936258705534|   2.531872517411068|\n",
      "| -0.8667404022651017| -1.7334808045302035|\n",
      "| -0.6788861516220543| -1.3577723032441087|\n",
      "|-0.09470896893689112|-0.18941793787378225|\n",
      "|  1.4913896261242878|  2.9827792522485757|\n",
      "|  -0.638901996684651|  -1.277803993369302|\n",
      "|-0.44398195964606546| -0.8879639192921309|\n",
      "|-0.43435127561851733| -0.8687025512370347|\n",
      "|  2.2059300827254558|  4.4118601654509115|\n",
      "|  2.1867860889737867|   4.373572177947573|\n",
      "|   1.004053897878877|   2.008107795757754|\n",
      "|   0.386186399174856|   0.772372798349712|\n",
      "+--------------------+--------------------+\n",
      "\n"
     ]
    }
   ],
   "source": [
    "df.select(df.n, df.n * 2).show()"
   ]
  },
  {
   "cell_type": "code",
   "execution_count": 14,
   "metadata": {},
   "outputs": [
    {
     "name": "stdout",
     "output_type": "stream",
     "text": [
      "+-------------------+-----+-----+--------------------+\n",
      "|                  n|group|abool|                  n2|\n",
      "+-------------------+-----+-----+--------------------+\n",
      "|-1.0856306033005612|    y|false|  1.0856306033005612|\n",
      "| 0.9973454465835858|    x| true| -0.9973454465835858|\n",
      "|0.28297849805199204|    x| true|-0.28297849805199204|\n",
      "| -1.506294713918092|    x|false|   1.506294713918092|\n",
      "|-0.5786002519685364|    z|false|  0.5786002519685364|\n",
      "+-------------------+-----+-----+--------------------+\n",
      "only showing top 5 rows\n",
      "\n"
     ]
    }
   ],
   "source": [
    "n2 = (df.n * -1).alias('n2')\n",
    "\n",
    "df = df.select('*', n2)\n",
    "\n",
    "df.show(5)"
   ]
  },
  {
   "cell_type": "code",
   "execution_count": 15,
   "metadata": {},
   "outputs": [
    {
     "name": "stdout",
     "output_type": "stream",
     "text": [
      "+-------------------+-----+-----+--------------------+-------------------+\n",
      "|                  n|group|abool|                  n2|                 n3|\n",
      "+-------------------+-----+-----+--------------------+-------------------+\n",
      "|-1.0856306033005612|    y|false|  1.0856306033005612| 1.1785938068227404|\n",
      "| 0.9973454465835858|    x| true| -0.9973454465835858| 0.9946979398210122|\n",
      "|0.28297849805199204|    x| true|-0.28297849805199204|0.08007683035976126|\n",
      "| -1.506294713918092|    x|false|   1.506294713918092| 2.2689237651775866|\n",
      "|-0.5786002519685364|    z|false|  0.5786002519685364| 0.3347782515780538|\n",
      "+-------------------+-----+-----+--------------------+-------------------+\n",
      "only showing top 5 rows\n",
      "\n"
     ]
    }
   ],
   "source": [
    "n3 = (df.n ** 2).alias('n3')\n",
    "\n",
    "df = df.select('*', n3)\n",
    "\n",
    "df.show(5)"
   ]
  },
  {
   "cell_type": "code",
   "execution_count": 16,
   "metadata": {},
   "outputs": [
    {
     "data": {
      "text/plain": [
       "Column<'(group + abool)'>"
      ]
     },
     "execution_count": 16,
     "metadata": {},
     "output_type": "execute_result"
    }
   ],
   "source": [
    "df.group + df.abool # see a column object with no values"
   ]
  },
  {
   "cell_type": "markdown",
   "metadata": {},
   "source": [
    "-----------\n",
    "\n",
    "## Type casting\n",
    "\n",
    "- Use the starter code above to re-create a spark dataframe.\n",
    "\n",
    "- Use .printSchema to view the datatypes in your dataframe.\n",
    "\n",
    "- Use .dtypes to view the datatypes in your dataframe.\n",
    "\n",
    "- What is the difference between the two code samples below?\n",
    "\n",
    "    - df.abool.cast('int')\n",
    "    - df.select(df.abool.cast('int')).show()\n",
    "    - Use .select and .cast to convert the abool column to an integer type. View the results.\n",
    "\n",
    "\n",
    "- Convert the group column to a integer data type and view the results. What happens?\n",
    "\n",
    "- Convert the n column to a integer data type and view the results. What happens?\n",
    "\n",
    "- Convert the abool column to a string data type and view the results. What happens?\n",
    "\n",
    "------"
   ]
  },
  {
   "cell_type": "code",
   "execution_count": 18,
   "metadata": {},
   "outputs": [
    {
     "name": "stdout",
     "output_type": "stream",
     "text": [
      "root\n",
      " |-- n: double (nullable = true)\n",
      " |-- group: string (nullable = true)\n",
      " |-- abool: boolean (nullable = true)\n",
      " |-- n2: double (nullable = true)\n",
      " |-- n3: double (nullable = true)\n",
      "\n"
     ]
    }
   ],
   "source": [
    "df.printSchema()"
   ]
  },
  {
   "cell_type": "code",
   "execution_count": 21,
   "metadata": {},
   "outputs": [
    {
     "data": {
      "text/plain": [
       "[('n', 'double'),\n",
       " ('group', 'string'),\n",
       " ('abool', 'boolean'),\n",
       " ('n2', 'double'),\n",
       " ('n3', 'double')]"
      ]
     },
     "execution_count": 21,
     "metadata": {},
     "output_type": "execute_result"
    }
   ],
   "source": [
    "df.dtypes"
   ]
  },
  {
   "cell_type": "code",
   "execution_count": 29,
   "metadata": {},
   "outputs": [
    {
     "name": "stdout",
     "output_type": "stream",
     "text": [
      "+-----+\n",
      "|group|\n",
      "+-----+\n",
      "| null|\n",
      "| null|\n",
      "| null|\n",
      "| null|\n",
      "| null|\n",
      "+-----+\n",
      "only showing top 5 rows\n",
      "\n"
     ]
    }
   ],
   "source": [
    "df.select(df.group.cast(\"int\")).show(5) #null values since this column were strings, round to nearest whole number"
   ]
  },
  {
   "cell_type": "code",
   "execution_count": 31,
   "metadata": {},
   "outputs": [
    {
     "name": "stdout",
     "output_type": "stream",
     "text": [
      "+---+\n",
      "|  n|\n",
      "+---+\n",
      "| -1|\n",
      "|  0|\n",
      "|  0|\n",
      "| -1|\n",
      "|  0|\n",
      "+---+\n",
      "only showing top 5 rows\n",
      "\n"
     ]
    }
   ],
   "source": [
    "df.select(df.n.cast(\"int\")).show(5) #covnerted from a float to an int"
   ]
  },
  {
   "cell_type": "code",
   "execution_count": 33,
   "metadata": {},
   "outputs": [
    {
     "ename": "TypeError",
     "evalue": "'Column' object is not callable",
     "output_type": "error",
     "traceback": [
      "\u001b[0;31m---------------------------------------------------------------------------\u001b[0m",
      "\u001b[0;31mTypeError\u001b[0m                                 Traceback (most recent call last)",
      "\u001b[0;32m<ipython-input-33-7964333cdcd8>\u001b[0m in \u001b[0;36m<module>\u001b[0;34m\u001b[0m\n\u001b[0;32m----> 1\u001b[0;31m \u001b[0mdf\u001b[0m\u001b[0;34m.\u001b[0m\u001b[0mabool\u001b[0m\u001b[0;34m.\u001b[0m\u001b[0mcast\u001b[0m\u001b[0;34m(\u001b[0m\u001b[0;34m'int'\u001b[0m\u001b[0;34m)\u001b[0m\u001b[0;34m.\u001b[0m\u001b[0mshow\u001b[0m\u001b[0;34m(\u001b[0m\u001b[0;36m5\u001b[0m\u001b[0;34m)\u001b[0m\u001b[0;34m\u001b[0m\u001b[0;34m\u001b[0m\u001b[0m\n\u001b[0m",
      "\u001b[0;31mTypeError\u001b[0m: 'Column' object is not callable"
     ]
    }
   ],
   "source": [
    "df.abool.cast('int').show(5)"
   ]
  },
  {
   "cell_type": "code",
   "execution_count": 34,
   "metadata": {},
   "outputs": [
    {
     "name": "stdout",
     "output_type": "stream",
     "text": [
      "+-----+\n",
      "|abool|\n",
      "+-----+\n",
      "|    0|\n",
      "|    1|\n",
      "|    1|\n",
      "|    0|\n",
      "|    0|\n",
      "+-----+\n",
      "only showing top 5 rows\n",
      "\n"
     ]
    }
   ],
   "source": [
    "df.select(df.abool.cast('int')).show(5)"
   ]
  },
  {
   "cell_type": "markdown",
   "metadata": {},
   "source": [
    "---------\n",
    "\n",
    "## Built-in Functions\n",
    "\n",
    "- Use the starter code above to re-create a spark dataframe.\n",
    "- Import the necessary functions from pyspark.sql.functions\n",
    "- Find the highest n value.\n",
    "- Find the lowest n value.\n",
    "- Find the average n value.\n",
    "- Use concat to change the group column to say, e.g. \"Group: x\" or \"Group: y\"\n",
    "- Use concat to combine the n and group columns to produce results that look like this: \"x: -1.432\" or \"z: 2.352\"\n",
    "\n",
    "-------"
   ]
  },
  {
   "cell_type": "code",
   "execution_count": 40,
   "metadata": {},
   "outputs": [
    {
     "name": "stdout",
     "output_type": "stream",
     "text": [
      "+------------------+-----+-----+-------------------+------------------+\n",
      "|                 n|group|abool|                 n2|                n3|\n",
      "+------------------+-----+-----+-------------------+------------------+\n",
      "|2.2059300827254558|    z| true|-2.2059300827254558| 4.866127529873136|\n",
      "|2.1867860889737867|    z|false|-2.1867860889737867|  4.78203339892927|\n",
      "| 1.651436537097151|    y|false| -1.651436537097151|  2.72724263605943|\n",
      "|1.4913896261242878|    x|false|-1.4913896261242878| 2.224243016911143|\n",
      "| 1.265936258705534|    z| true| -1.265936258705534|1.6025946111053648|\n",
      "+------------------+-----+-----+-------------------+------------------+\n",
      "only showing top 5 rows\n",
      "\n"
     ]
    }
   ],
   "source": [
    "df.sort(desc(df.n)).show(5)"
   ]
  },
  {
   "cell_type": "code",
   "execution_count": 41,
   "metadata": {},
   "outputs": [
    {
     "name": "stdout",
     "output_type": "stream",
     "text": [
      "+-------------------+-----+-----+------------------+-------------------+\n",
      "|                  n|group|abool|                n2|                 n3|\n",
      "+-------------------+-----+-----+------------------+-------------------+\n",
      "| -2.426679243393074|    y|false| 2.426679243393074|  5.888772150314783|\n",
      "| -1.506294713918092|    x|false| 1.506294713918092| 2.2689237651775866|\n",
      "|-1.0856306033005612|    y|false|1.0856306033005612| 1.1785938068227404|\n",
      "|-0.8667404022651017|    z| true|0.8667404022651017| 0.7512389249186704|\n",
      "|-0.6788861516220543|    y| true|0.6788861516220543|0.46088640686420296|\n",
      "+-------------------+-----+-----+------------------+-------------------+\n",
      "only showing top 5 rows\n",
      "\n"
     ]
    }
   ],
   "source": [
    "df.sort(asc(df.n)).show(5)"
   ]
  },
  {
   "cell_type": "code",
   "execution_count": 44,
   "metadata": {},
   "outputs": [
    {
     "name": "stdout",
     "output_type": "stream",
     "text": [
      "+-------------------+\n",
      "|             avg(n)|\n",
      "+-------------------+\n",
      "|0.11441773195529023|\n",
      "+-------------------+\n",
      "\n"
     ]
    }
   ],
   "source": [
    "df.select(mean('n')).show()"
   ]
  },
  {
   "cell_type": "code",
   "execution_count": 73,
   "metadata": {},
   "outputs": [
    {
     "name": "stdout",
     "output_type": "stream",
     "text": [
      "+--------------------+\n",
      "|Group: x or Group: y|\n",
      "+--------------------+\n",
      "|                   y|\n",
      "|                   x|\n",
      "|                   x|\n",
      "|                   x|\n",
      "|                   z|\n",
      "|                   y|\n",
      "|                   y|\n",
      "|                   z|\n",
      "|                   z|\n",
      "|                   z|\n",
      "|                   y|\n",
      "|                   x|\n",
      "|                   x|\n",
      "|                   z|\n",
      "|                   y|\n",
      "|                   x|\n",
      "|                   z|\n",
      "|                   z|\n",
      "|                   z|\n",
      "|                   z|\n",
      "+--------------------+\n",
      "\n"
     ]
    }
   ],
   "source": [
    "df.select(df.group.alias('Group: x or Group: y')).show()"
   ]
  },
  {
   "cell_type": "code",
   "execution_count": 74,
   "metadata": {},
   "outputs": [
    {
     "name": "stdout",
     "output_type": "stream",
     "text": [
      "+--------------------+\n",
      "|    concat(group, n)|\n",
      "+--------------------+\n",
      "|y-1.0856306033005612|\n",
      "| x0.9973454465835858|\n",
      "|x0.28297849805199204|\n",
      "| x-1.506294713918092|\n",
      "|z-0.5786002519685364|\n",
      "+--------------------+\n",
      "only showing top 5 rows\n",
      "\n"
     ]
    }
   ],
   "source": [
    "df.select(concat(df.group, df.n)).show(5)"
   ]
  },
  {
   "cell_type": "markdown",
   "metadata": {},
   "source": [
    "----------\n",
    "\n",
    "## When / Otherwise\n",
    "\n",
    "- Use the starter code above to re-create a spark dataframe.\n",
    "- Use when and .otherwise to create a column that contains the text \"It is true\" when abool is true and \"It is false\"\" when abool is false.\n",
    "- Create a column that contains 0 if n is less than 0, otherwise, the original n value.\n",
    "\n",
    "--------"
   ]
  },
  {
   "cell_type": "code",
   "execution_count": 79,
   "metadata": {},
   "outputs": [
    {
     "name": "stdout",
     "output_type": "stream",
     "text": [
      "+-----+-----------+\n",
      "|abool|  abool_new|\n",
      "+-----+-----------+\n",
      "|false|It is false|\n",
      "| true| It is true|\n",
      "| true| It is true|\n",
      "|false|It is false|\n",
      "|false|It is false|\n",
      "+-----+-----------+\n",
      "only showing top 5 rows\n",
      "\n"
     ]
    }
   ],
   "source": [
    "df.select(df.abool, when(df.abool == \"true\", \"It is true\").otherwise('It is false').alias(\"abool_new\")).show(\n",
    " 5\n",
    ")"
   ]
  },
  {
   "cell_type": "code",
   "execution_count": 81,
   "metadata": {},
   "outputs": [
    {
     "name": "stdout",
     "output_type": "stream",
     "text": [
      "+-------------------+-------------------+\n",
      "|                  n|              new_n|\n",
      "+-------------------+-------------------+\n",
      "|-1.0856306033005612|                  0|\n",
      "| 0.9973454465835858| 0.9973454465835858|\n",
      "|0.28297849805199204|0.28297849805199204|\n",
      "| -1.506294713918092|                  0|\n",
      "|-0.5786002519685364|                  0|\n",
      "+-------------------+-------------------+\n",
      "only showing top 5 rows\n",
      "\n"
     ]
    }
   ],
   "source": [
    "df.select(df.n, when(df.n < 0, '0').otherwise(df.n).alias('new_n')).show(5)"
   ]
  },
  {
   "cell_type": "markdown",
   "metadata": {},
   "source": [
    "-----------\n",
    "\n",
    "## Filter / Where\n",
    "\n",
    "- Use the starter code above to re-create a spark dataframe.\n",
    "- Use .filter or .where to select just the rows where the group is y and view the results.\n",
    "- Select just the columns where the abool column is false and view the results.\n",
    "- Find the columns where the group column is not y.\n",
    "- Find the columns where n is positive.\n",
    "- Find the columns where abool is true and the group column is z.\n",
    "- Find the columns where abool is true or the group column is z.\n",
    "- Find the columns where abool is false and n is less than 1\n",
    "- Find the columns where abool is false or n is less than 1\n",
    "\n",
    "-------"
   ]
  },
  {
   "cell_type": "code",
   "execution_count": 82,
   "metadata": {},
   "outputs": [
    {
     "name": "stdout",
     "output_type": "stream",
     "text": [
      "+--------------------+-----+-----+-------------------+-------------------+\n",
      "|                   n|group|abool|                 n2|                 n3|\n",
      "+--------------------+-----+-----+-------------------+-------------------+\n",
      "| -1.0856306033005612|    y|false| 1.0856306033005612| 1.1785938068227404|\n",
      "|   1.651436537097151|    y|false| -1.651436537097151|   2.72724263605943|\n",
      "|  -2.426679243393074|    y|false|  2.426679243393074|  5.888772150314783|\n",
      "| -0.6788861516220543|    y| true| 0.6788861516220543|0.46088640686420296|\n",
      "|-0.44398195964606546|    y| true|0.44398195964606546| 0.1971199804911605|\n",
      "+--------------------+-----+-----+-------------------+-------------------+\n",
      "\n"
     ]
    }
   ],
   "source": [
    "df.where(df.group == 'y').show(5)"
   ]
  },
  {
   "cell_type": "code",
   "execution_count": 83,
   "metadata": {},
   "outputs": [
    {
     "name": "stdout",
     "output_type": "stream",
     "text": [
      "+-------------------+-----+-----+------------------+------------------+\n",
      "|                  n|group|abool|                n2|                n3|\n",
      "+-------------------+-----+-----+------------------+------------------+\n",
      "|-1.0856306033005612|    y|false|1.0856306033005612|1.1785938068227404|\n",
      "| -1.506294713918092|    x|false| 1.506294713918092|2.2689237651775866|\n",
      "|-0.5786002519685364|    z|false|0.5786002519685364|0.3347782515780538|\n",
      "|  1.651436537097151|    y|false|-1.651436537097151|  2.72724263605943|\n",
      "| -2.426679243393074|    y|false| 2.426679243393074| 5.888772150314783|\n",
      "+-------------------+-----+-----+------------------+------------------+\n",
      "only showing top 5 rows\n",
      "\n"
     ]
    }
   ],
   "source": [
    "df.where(df.abool == 'false').show(5)"
   ]
  },
  {
   "cell_type": "code",
   "execution_count": 84,
   "metadata": {},
   "outputs": [
    {
     "name": "stdout",
     "output_type": "stream",
     "text": [
      "+--------------------+-----+-----+--------------------+-------------------+\n",
      "|                   n|group|abool|                  n2|                 n3|\n",
      "+--------------------+-----+-----+--------------------+-------------------+\n",
      "|  0.9973454465835858|    x| true| -0.9973454465835858| 0.9946979398210122|\n",
      "| 0.28297849805199204|    x| true|-0.28297849805199204|0.08007683035976126|\n",
      "|  -1.506294713918092|    x|false|   1.506294713918092| 2.2689237651775866|\n",
      "| -0.5786002519685364|    z|false|  0.5786002519685364| 0.3347782515780538|\n",
      "|-0.42891262885617726|    z| true| 0.42891262885617726|0.18396604319231685|\n",
      "+--------------------+-----+-----+--------------------+-------------------+\n",
      "only showing top 5 rows\n",
      "\n"
     ]
    }
   ],
   "source": [
    "df.where(df.group != 'y').show(5)"
   ]
  },
  {
   "cell_type": "code",
   "execution_count": 85,
   "metadata": {},
   "outputs": [
    {
     "name": "stdout",
     "output_type": "stream",
     "text": [
      "+-------------------+-----+-----+--------------------+-------------------+\n",
      "|                  n|group|abool|                  n2|                 n3|\n",
      "+-------------------+-----+-----+--------------------+-------------------+\n",
      "| 0.9973454465835858|    x| true| -0.9973454465835858| 0.9946979398210122|\n",
      "|0.28297849805199204|    x| true|-0.28297849805199204|0.08007683035976126|\n",
      "|  1.651436537097151|    y|false|  -1.651436537097151|   2.72724263605943|\n",
      "|  1.265936258705534|    z| true|  -1.265936258705534| 1.6025946111053648|\n",
      "+-------------------+-----+-----+--------------------+-------------------+\n",
      "only showing top 4 rows\n",
      "\n"
     ]
    }
   ],
   "source": [
    "df.where(df.n >= 0).show(4)"
   ]
  },
  {
   "cell_type": "code",
   "execution_count": 86,
   "metadata": {},
   "outputs": [
    {
     "name": "stdout",
     "output_type": "stream",
     "text": [
      "+--------------------+-----+-----+-------------------+-------------------+\n",
      "|                   n|group|abool|                 n2|                 n3|\n",
      "+--------------------+-----+-----+-------------------+-------------------+\n",
      "|-0.42891262885617726|    z| true|0.42891262885617726|0.18396604319231685|\n",
      "|   1.265936258705534|    z| true| -1.265936258705534| 1.6025946111053648|\n",
      "| -0.8667404022651017|    z| true| 0.8667404022651017| 0.7512389249186704|\n",
      "|  -0.638901996684651|    z| true|  0.638901996684651|0.40819576136763375|\n",
      "|  2.2059300827254558|    z| true|-2.2059300827254558|  4.866127529873136|\n",
      "+--------------------+-----+-----+-------------------+-------------------+\n",
      "only showing top 5 rows\n",
      "\n"
     ]
    }
   ],
   "source": [
    "df.where(df.group == 'z').where(df.abool == 'true').show(5)"
   ]
  },
  {
   "cell_type": "code",
   "execution_count": 94,
   "metadata": {},
   "outputs": [
    {
     "name": "stdout",
     "output_type": "stream",
     "text": [
      "+--------------------+-----+-----+--------------------+-------------------+\n",
      "|                   n|group|abool|                  n2|                 n3|\n",
      "+--------------------+-----+-----+--------------------+-------------------+\n",
      "|  0.9973454465835858|    x| true| -0.9973454465835858| 0.9946979398210122|\n",
      "| 0.28297849805199204|    x| true|-0.28297849805199204|0.08007683035976126|\n",
      "| -0.5786002519685364|    z|false|  0.5786002519685364| 0.3347782515780538|\n",
      "|-0.42891262885617726|    z| true| 0.42891262885617726|0.18396604319231685|\n",
      "|   1.265936258705534|    z| true|  -1.265936258705534| 1.6025946111053648|\n",
      "+--------------------+-----+-----+--------------------+-------------------+\n",
      "only showing top 5 rows\n",
      "\n"
     ]
    }
   ],
   "source": [
    "df.filter((df.abool == 'true') | (df.group == 'z')).show(5)"
   ]
  },
  {
   "cell_type": "code",
   "execution_count": 95,
   "metadata": {},
   "outputs": [
    {
     "name": "stdout",
     "output_type": "stream",
     "text": [
      "+--------------------+-----+-----+-------------------+--------------------+\n",
      "|                   n|group|abool|                 n2|                  n3|\n",
      "+--------------------+-----+-----+-------------------+--------------------+\n",
      "| -1.0856306033005612|    y|false| 1.0856306033005612|  1.1785938068227404|\n",
      "|  -1.506294713918092|    x|false|  1.506294713918092|  2.2689237651775866|\n",
      "| -0.5786002519685364|    z|false| 0.5786002519685364|  0.3347782515780538|\n",
      "|  -2.426679243393074|    y|false|  2.426679243393074|   5.888772150314783|\n",
      "|-0.09470896893689112|    x|false|0.09470896893689112|0.008969788797089009|\n",
      "+--------------------+-----+-----+-------------------+--------------------+\n",
      "only showing top 5 rows\n",
      "\n"
     ]
    }
   ],
   "source": [
    "df.where(df.abool == 'false').where(df.n < 1).show(5)"
   ]
  },
  {
   "cell_type": "code",
   "execution_count": 96,
   "metadata": {},
   "outputs": [
    {
     "name": "stdout",
     "output_type": "stream",
     "text": [
      "+-------------------+-----+-----+--------------------+-------------------+\n",
      "|                  n|group|abool|                  n2|                 n3|\n",
      "+-------------------+-----+-----+--------------------+-------------------+\n",
      "|-1.0856306033005612|    y|false|  1.0856306033005612| 1.1785938068227404|\n",
      "| 0.9973454465835858|    x| true| -0.9973454465835858| 0.9946979398210122|\n",
      "|0.28297849805199204|    x| true|-0.28297849805199204|0.08007683035976126|\n",
      "| -1.506294713918092|    x|false|   1.506294713918092| 2.2689237651775866|\n",
      "|-0.5786002519685364|    z|false|  0.5786002519685364| 0.3347782515780538|\n",
      "+-------------------+-----+-----+--------------------+-------------------+\n",
      "only showing top 5 rows\n",
      "\n"
     ]
    }
   ],
   "source": [
    "df.filter((df.abool == 'false') | (df.n < 1)).show(5)"
   ]
  },
  {
   "cell_type": "markdown",
   "metadata": {},
   "source": [
    "--------\n",
    "\n",
    "## Sorting\n",
    "\n",
    "- Use the starter code above to re-create a spark dataframe.\n",
    "- Sort by the n value.\n",
    "- Sort by the group value, both ascending and descending.\n",
    "- Sort by the group value first, then, within each group, sort by n value.\n",
    "- Sort by abool, group, and n. Does it matter in what order you specify the columns when sorting?\n",
    "\n",
    "-------"
   ]
  },
  {
   "cell_type": "code",
   "execution_count": 98,
   "metadata": {},
   "outputs": [
    {
     "name": "stdout",
     "output_type": "stream",
     "text": [
      "+-------------------+-----+-----+------------------+-------------------+\n",
      "|                  n|group|abool|                n2|                 n3|\n",
      "+-------------------+-----+-----+------------------+-------------------+\n",
      "| -2.426679243393074|    y|false| 2.426679243393074|  5.888772150314783|\n",
      "| -1.506294713918092|    x|false| 1.506294713918092| 2.2689237651775866|\n",
      "|-1.0856306033005612|    y|false|1.0856306033005612| 1.1785938068227404|\n",
      "|-0.8667404022651017|    z| true|0.8667404022651017| 0.7512389249186704|\n",
      "|-0.6788861516220543|    y| true|0.6788861516220543|0.46088640686420296|\n",
      "+-------------------+-----+-----+------------------+-------------------+\n",
      "only showing top 5 rows\n",
      "\n"
     ]
    }
   ],
   "source": [
    "df.sort(df.n).show(5)"
   ]
  },
  {
   "cell_type": "code",
   "execution_count": 99,
   "metadata": {},
   "outputs": [
    {
     "name": "stdout",
     "output_type": "stream",
     "text": [
      "+--------------------+-----+-----+--------------------+--------------------+\n",
      "|                   n|group|abool|                  n2|                  n3|\n",
      "+--------------------+-----+-----+--------------------+--------------------+\n",
      "|-0.43435127561851733|    x| true| 0.43435127561851733| 0.18866103063143322|\n",
      "|  0.9973454465835858|    x| true| -0.9973454465835858|  0.9946979398210122|\n",
      "|-0.09470896893689112|    x|false| 0.09470896893689112|0.008969788797089009|\n",
      "|  -1.506294713918092|    x|false|   1.506294713918092|  2.2689237651775866|\n",
      "| 0.28297849805199204|    x| true|-0.28297849805199204| 0.08007683035976126|\n",
      "+--------------------+-----+-----+--------------------+--------------------+\n",
      "only showing top 5 rows\n",
      "\n"
     ]
    }
   ],
   "source": [
    "df.sort(asc(df.group)).show(5)"
   ]
  },
  {
   "cell_type": "code",
   "execution_count": 100,
   "metadata": {},
   "outputs": [
    {
     "name": "stdout",
     "output_type": "stream",
     "text": [
      "+-------------------+-----+-----+-------------------+-------------------+\n",
      "|                  n|group|abool|                 n2|                 n3|\n",
      "+-------------------+-----+-----+-------------------+-------------------+\n",
      "|  1.004053897878877|    z| true| -1.004053897878877| 1.0081242298457667|\n",
      "| 2.1867860889737867|    z|false|-2.1867860889737867|   4.78203339892927|\n",
      "|-0.5786002519685364|    z|false| 0.5786002519685364| 0.3347782515780538|\n",
      "| -0.638901996684651|    z| true|  0.638901996684651|0.40819576136763375|\n",
      "| 2.2059300827254558|    z| true|-2.2059300827254558|  4.866127529873136|\n",
      "+-------------------+-----+-----+-------------------+-------------------+\n",
      "only showing top 5 rows\n",
      "\n"
     ]
    }
   ],
   "source": [
    "df.sort(desc(df.group)).show(5)"
   ]
  },
  {
   "cell_type": "code",
   "execution_count": 101,
   "metadata": {},
   "outputs": [
    {
     "name": "stdout",
     "output_type": "stream",
     "text": [
      "+--------------------+-----+-----+--------------------+--------------------+\n",
      "|                   n|group|abool|                  n2|                  n3|\n",
      "+--------------------+-----+-----+--------------------+--------------------+\n",
      "|  -1.506294713918092|    x|false|   1.506294713918092|  2.2689237651775866|\n",
      "|-0.43435127561851733|    x| true| 0.43435127561851733| 0.18866103063143322|\n",
      "|-0.09470896893689112|    x|false| 0.09470896893689112|0.008969788797089009|\n",
      "| 0.28297849805199204|    x| true|-0.28297849805199204| 0.08007683035976126|\n",
      "|  0.9973454465835858|    x| true| -0.9973454465835858|  0.9946979398210122|\n",
      "|  1.4913896261242878|    x|false| -1.4913896261242878|   2.224243016911143|\n",
      "|  -2.426679243393074|    y|false|   2.426679243393074|   5.888772150314783|\n",
      "| -1.0856306033005612|    y|false|  1.0856306033005612|  1.1785938068227404|\n",
      "| -0.6788861516220543|    y| true|  0.6788861516220543| 0.46088640686420296|\n",
      "|-0.44398195964606546|    y| true| 0.44398195964606546|  0.1971199804911605|\n",
      "+--------------------+-----+-----+--------------------+--------------------+\n",
      "only showing top 10 rows\n",
      "\n"
     ]
    }
   ],
   "source": [
    "df.sort(df.group, df.n).show(10)"
   ]
  },
  {
   "cell_type": "code",
   "execution_count": 102,
   "metadata": {},
   "outputs": [
    {
     "name": "stdout",
     "output_type": "stream",
     "text": [
      "+--------------------+-----+-----+-------------------+--------------------+\n",
      "|                   n|group|abool|                 n2|                  n3|\n",
      "+--------------------+-----+-----+-------------------+--------------------+\n",
      "|  -1.506294713918092|    x|false|  1.506294713918092|  2.2689237651775866|\n",
      "|-0.09470896893689112|    x|false|0.09470896893689112|0.008969788797089009|\n",
      "|  1.4913896261242878|    x|false|-1.4913896261242878|   2.224243016911143|\n",
      "|  -2.426679243393074|    y|false|  2.426679243393074|   5.888772150314783|\n",
      "| -1.0856306033005612|    y|false| 1.0856306033005612|  1.1785938068227404|\n",
      "|   1.651436537097151|    y|false| -1.651436537097151|    2.72724263605943|\n",
      "| -0.5786002519685364|    z|false| 0.5786002519685364|  0.3347782515780538|\n",
      "|   0.386186399174856|    z|false| -0.386186399174856| 0.14913993490764121|\n",
      "|  2.1867860889737867|    z|false|-2.1867860889737867|    4.78203339892927|\n",
      "|-0.43435127561851733|    x| true|0.43435127561851733| 0.18866103063143322|\n",
      "+--------------------+-----+-----+-------------------+--------------------+\n",
      "only showing top 10 rows\n",
      "\n"
     ]
    }
   ],
   "source": [
    "df.sort('abool', 'group', 'n').show(10)"
   ]
  },
  {
   "cell_type": "code",
   "execution_count": 103,
   "metadata": {},
   "outputs": [
    {
     "name": "stdout",
     "output_type": "stream",
     "text": [
      "+--------------------+-----+-----+--------------------+--------------------+\n",
      "|                   n|group|abool|                  n2|                  n3|\n",
      "+--------------------+-----+-----+--------------------+--------------------+\n",
      "|  -1.506294713918092|    x|false|   1.506294713918092|  2.2689237651775866|\n",
      "|-0.09470896893689112|    x|false| 0.09470896893689112|0.008969788797089009|\n",
      "|  1.4913896261242878|    x|false| -1.4913896261242878|   2.224243016911143|\n",
      "|-0.43435127561851733|    x| true| 0.43435127561851733| 0.18866103063143322|\n",
      "| 0.28297849805199204|    x| true|-0.28297849805199204| 0.08007683035976126|\n",
      "|  0.9973454465835858|    x| true| -0.9973454465835858|  0.9946979398210122|\n",
      "|  -2.426679243393074|    y|false|   2.426679243393074|   5.888772150314783|\n",
      "| -1.0856306033005612|    y|false|  1.0856306033005612|  1.1785938068227404|\n",
      "|   1.651436537097151|    y|false|  -1.651436537097151|    2.72724263605943|\n",
      "| -0.6788861516220543|    y| true|  0.6788861516220543| 0.46088640686420296|\n",
      "+--------------------+-----+-----+--------------------+--------------------+\n",
      "only showing top 10 rows\n",
      "\n"
     ]
    }
   ],
   "source": [
    "df.sort('group', 'abool', 'n').show(10)"
   ]
  },
  {
   "cell_type": "markdown",
   "metadata": {},
   "source": [
    "Yes, it does matter how you sort because the first value in the sort section will supercede the other columns and they will sort themselves within the preceding column"
   ]
  },
  {
   "cell_type": "code",
   "execution_count": null,
   "metadata": {},
   "outputs": [],
   "source": []
  }
 ],
 "metadata": {
  "kernelspec": {
   "display_name": "Python 3",
   "language": "python",
   "name": "python3"
  },
  "language_info": {
   "codemirror_mode": {
    "name": "ipython",
    "version": 3
   },
   "file_extension": ".py",
   "mimetype": "text/x-python",
   "name": "python",
   "nbconvert_exporter": "python",
   "pygments_lexer": "ipython3",
   "version": "3.8.5"
  }
 },
 "nbformat": 4,
 "nbformat_minor": 4
}
